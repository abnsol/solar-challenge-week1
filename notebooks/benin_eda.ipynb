{
 "cells": [
  {
   "cell_type": "markdown",
   "id": "e8c839d2",
   "metadata": {},
   "source": [
    "Import the dependencies"
   ]
  },
  {
   "cell_type": "code",
   "execution_count": null,
   "id": "cc7eb116",
   "metadata": {},
   "outputs": [],
   "source": [
    "\n",
    "import pandas as pd\n",
    "import numpy as np\n",
    "import seaborn as sns\n",
    "import matplotlib.pyplot as plt\n",
    "from scipy import stats\n",
    "from windrose import WindroseAxes\n",
    "import matplotlib.cm as cm "
   ]
  },
  {
   "cell_type": "markdown",
   "id": "2886459c",
   "metadata": {},
   "source": [
    "Load the datasets"
   ]
  },
  {
   "cell_type": "code",
   "execution_count": null,
   "id": "833491e1",
   "metadata": {},
   "outputs": [],
   "source": [
    "df = pd.read_csv(\"../data/benin-malanville.csv\")"
   ]
  },
  {
   "cell_type": "markdown",
   "id": "96449054",
   "metadata": {},
   "source": [
    "\n",
    "1. Summary Statistics & Missing-Value Report"
   ]
  },
  {
   "cell_type": "code",
   "execution_count": null,
   "id": "e88bb0e9",
   "metadata": {},
   "outputs": [],
   "source": [
    "# Overview of numeric columns\n",
    "print(\"The description of the numeric columns:\")\n",
    "print(df.describe())\n",
    "# Overview of the dataset\n",
    "print(\"----------------------------------\")\n",
    "print(\"An overview of the dataset: the shape of the dataset\")\n",
    "print(df.info())\n",
    "# Overview of the dataset\n",
    "print(\"----------------------------------\")\n",
    "print(\"An overview of the dataset: the first 5 rows\")\n",
    "print(df.head(5))\n",
    "# Overview of the dataset\n",
    "print(\"----------------------------------\")\n",
    "print(\"An overview of the dataset: the last 5 rows\")\n",
    "print(df.tail(5))"
   ]
  },
  {
   "cell_type": "code",
   "execution_count": null,
   "id": "169660da",
   "metadata": {},
   "outputs": [],
   "source": [
    "# Check for missing values\n",
    "print(\"----------------------------------\")\n",
    "print(\"Check for missing values:\")\n",
    "print(f\"{(df.isna().sum()/len(df)) * 100}%\")"
   ]
  },
  {
   "cell_type": "markdown",
   "id": "9fbba908",
   "metadata": {},
   "source": [
    "2. Outlier Detection & Basic Cleaning\n",
    "- Cleaning strategy since we have found a missing value"
   ]
  },
  {
   "cell_type": "code",
   "execution_count": null,
   "id": "31bd287f",
   "metadata": {},
   "outputs": [],
   "source": [
    "# check if comments column is empty\n",
    "# null_column = df['Comments'].isna().all()\n",
    "# print(f\"Is Comments fully null? {null_column}\")\n",
    "\n",
    "# Drop the Comments column since its empty\n",
    "df.drop(columns=['Comments'], inplace=True)\n",
    "\n",
    "# check\n",
    "df.head(5)"
   ]
  },
  {
   "cell_type": "markdown",
   "id": "ae084e99",
   "metadata": {},
   "source": [
    "Outlier detection\n"
   ]
  },
  {
   "cell_type": "code",
   "execution_count": null,
   "id": "c95b5e51",
   "metadata": {},
   "outputs": [],
   "source": [
    "# # Identify numeric columns\n",
    "# # Compute Z-scores and flag outliers (|Z| > 3)\n",
    "numeric_cols = [\"GHI\", \"DNI\", \"DHI\", \"ModA\", \"ModB\", \"WS\", \"WSgust\"]\n",
    "\n",
    "# Compute Z-scores and flag outliers (|Z| > 3)\n",
    "z_scores = np.abs(stats.zscore(df[numeric_cols]))\n",
    "outlier_flags = (z_scores > 3).any(axis=1)\n",
    "print(f\"Number of outlier samples flagged: {outlier_flags.sum()}\")"
   ]
  },
  {
   "cell_type": "markdown",
   "id": "1fee1c6d",
   "metadata": {},
   "source": [
    "Imputation"
   ]
  },
  {
   "cell_type": "code",
   "execution_count": null,
   "id": "433ea7ff",
   "metadata": {},
   "outputs": [],
   "source": [
    "# impute\n",
    "for col in numeric_cols:\n",
    "    df.loc[outlier_flags, col] = df[col].median()\n",
    "\n",
    "#check for outliers\n",
    "# Compute Z-scores and flag outliers (|Z| > 3)\n",
    "numeric_cols = [\"GHI\", \"DNI\", \"DHI\", \"ModA\", \"ModB\", \"WS\", \"WSgust\"]\n",
    "\n",
    "# Compute Z-scores and flag outliers (|Z| > 3)\n",
    "z_scores = np.abs(stats.zscore(df[numeric_cols]))\n",
    "outlier_flags = (z_scores > 3).any(axis=1)\n",
    "print(f\"Number of outlier samples flagged: {outlier_flags.sum()}\")"
   ]
  },
  {
   "cell_type": "markdown",
   "id": "08c2c5b0",
   "metadata": {},
   "source": [
    "Export "
   ]
  },
  {
   "cell_type": "code",
   "execution_count": null,
   "id": "dbfd4746",
   "metadata": {},
   "outputs": [],
   "source": [
    "df_clean = df[~outlier_flags].copy() \n",
    "df_clean.to_csv(\"../data/benin_clean.csv\", index=False)"
   ]
  },
  {
   "cell_type": "markdown",
   "id": "9df441fe",
   "metadata": {},
   "source": [
    "4. Time Series Analysis"
   ]
  },
  {
   "cell_type": "markdown",
   "id": "34850604",
   "metadata": {},
   "source": [
    "- Prepare Data  "
   ]
  },
  {
   "cell_type": "code",
   "execution_count": null,
   "id": "69aa1e5e",
   "metadata": {},
   "outputs": [],
   "source": [
    "# Convert 'Timestamp' to datetime and set as index\n",
    "df['Timestamp'] = pd.to_datetime(df['Timestamp'])\n",
    "df = df.set_index('Timestamp')\n",
    "\n",
    "# Sort by time (critical for time series plots)\n",
    "df = df.sort_index()"
   ]
  },
  {
   "cell_type": "markdown",
   "id": "53f6a8e2",
   "metadata": {},
   "source": [
    "- Line Charts (Hourly/Daily Trends)"
   ]
  },
  {
   "cell_type": "code",
   "execution_count": null,
   "id": "fe1f6629",
   "metadata": {},
   "outputs": [],
   "source": [
    "# Plot all 4 variables in subplots\n",
    "fig, axes = plt.subplots(4, 1, figsize=(15, 12), sharex=True)\n",
    "\n",
    "variables = ['GHI', 'DNI', 'DHI', 'Tamb']\n",
    "colors = ['blue', 'green', 'red', 'orange']\n",
    "\n",
    "for ax, var, color in zip(axes, variables, colors):\n",
    "    df[var].plot(ax=ax, color=color, title=f'{var} over Time', lw=1)\n",
    "    ax.set_ylabel(var)\n",
    "\n",
    "plt.tight_layout()\n",
    "plt.show()"
   ]
  },
  {
   "cell_type": "markdown",
   "id": "90d3a5a9",
   "metadata": {},
   "source": [
    "- Monthly/Daily Averages"
   ]
  },
  {
   "cell_type": "code",
   "execution_count": null,
   "id": "69118b12",
   "metadata": {},
   "outputs": [],
   "source": [
    "# Monthly averages\n",
    "monthly = df.resample('ME').mean()\n",
    "monthly[['GHI', 'Tamb']].plot(figsize=(12, 4), title='Monthly Avg GHI & Temperature')\n",
    "plt.ylabel('Value')\n",
    "plt.show()\n",
    "\n",
    "# Daily averages (for hourly patterns)\n",
    "daily = df.resample('D').mean()\n",
    "daily['GHI'].plot(figsize=(12, 4), title='Daily Avg GHI')\n",
    "plt.ylabel('GHI (W/m²)')\n",
    "plt.show()"
   ]
  },
  {
   "cell_type": "markdown",
   "id": "37102d5a",
   "metadata": {},
   "source": [
    "- Anomaly Detection"
   ]
  },
  {
   "cell_type": "code",
   "execution_count": null,
   "id": "9b600256",
   "metadata": {},
   "outputs": [],
   "source": [
    "# Calculate rolling mean and std (7-day window)\n",
    "window = 7  # days\n",
    "rolling_mean = df['GHI'].rolling(window).mean()\n",
    "rolling_std = df['GHI'].rolling(window).std()\n",
    "\n",
    "# Plot with anomalies (values outside ±2σ)\n",
    "plt.figure(figsize=(12, 4))\n",
    "df['GHI'].plot(label='Actual')\n",
    "rolling_mean.plot(label=f'Rolling {window}-day Mean', color='red')\n",
    "plt.fill_between(\n",
    "    df.index,\n",
    "    rolling_mean - 2*rolling_std,\n",
    "    rolling_mean + 2*rolling_std,\n",
    "    color='gray', alpha=0.2, label='±2σ Range'\n",
    ")\n",
    "plt.title('GHI with Anomaly Detection')\n",
    "plt.legend()\n",
    "plt.show()"
   ]
  },
  {
   "cell_type": "markdown",
   "id": "059f8dd4",
   "metadata": {},
   "source": [
    "- Hourly Patterns (Boxplots by Hour)"
   ]
  },
  {
   "cell_type": "code",
   "execution_count": null,
   "id": "74a583ce",
   "metadata": {},
   "outputs": [],
   "source": [
    "# Extract hour from Timestamp\n",
    "df['Hour'] = df.index.hour\n",
    "\n",
    "# Boxplot of GHI by hour\n",
    "plt.figure(figsize=(12, 4))\n",
    "sns.boxplot(data=df, x='Hour', y='GHI')\n",
    "plt.title('Hourly Distribution of GHI')\n",
    "plt.show()"
   ]
  },
  {
   "cell_type": "markdown",
   "id": "8f5eb03d",
   "metadata": {},
   "source": [
    "5. Cleaning Impact"
   ]
  },
  {
   "cell_type": "code",
   "execution_count": null,
   "id": "ff4fb079",
   "metadata": {},
   "outputs": [],
   "source": [
    "df_raw = pd.read_csv(\"../data/benin-malanville.csv\")\n",
    "df_new = pd.read_csv(\"../data/benin_clean.csv\")\n",
    "\n",
    "# Add flags\n",
    "df_raw['Cleaning_Flag'] = 'Pre-Clean'\n",
    "df_new['Cleaning_Flag'] = 'Post-Clean'\n",
    "\n",
    "# Combine into one DataFrame for comparison\n",
    "df_combined = pd.concat([df_raw, df_new])\n",
    "\n",
    "# Group by flag and calculate mean\n",
    "cleaning_impact = df_combined.groupby('Cleaning_Flag')[['ModA', 'ModB']].mean()\n",
    "print(cleaning_impact)\n",
    "\n",
    "plt.figure(figsize=(10, 6))\n",
    "sns.barplot(\n",
    "    data=df_combined.melt(id_vars='Cleaning_Flag', value_vars=['ModA', 'ModB']),\n",
    "    x='variable', \n",
    "    y='value', \n",
    "    hue='Cleaning_Flag',\n",
    "    palette={'Pre-Clean': 'red', 'Post-Clean': 'green'}\n",
    ")\n",
    "plt.title('Average ModA & ModB: Pre-Clean vs. Post-Clean')\n",
    "plt.ylabel('Average Value')\n",
    "plt.xlabel('Sensor')\n",
    "plt.legend(title='Data State')\n",
    "plt.show()"
   ]
  },
  {
   "cell_type": "markdown",
   "id": "dad019a0",
   "metadata": {},
   "source": [
    "6. Correlation & Relationship Analysis"
   ]
  },
  {
   "cell_type": "markdown",
   "id": "f75cd3b2",
   "metadata": {},
   "source": [
    "- Correlation Heatmap"
   ]
  },
  {
   "cell_type": "code",
   "execution_count": null,
   "id": "3d3ce076",
   "metadata": {},
   "outputs": [],
   "source": [
    "# Select columns for correlation\n",
    "corr_cols = ['GHI', 'DNI', 'DHI', 'TModA', 'TModB']\n",
    "corr_matrix = df_clean[corr_cols].corr()\n",
    "\n",
    "# Plot heatmap\n",
    "plt.figure(figsize=(10, 8))\n",
    "sns.heatmap(\n",
    "    corr_matrix,\n",
    "    annot=True,  # Show correlation values\n",
    "    cmap='coolwarm',  # Red (positive) vs. Blue (negative)\n",
    "    vmin=-1, vmax=1,  # Fix scale from -1 to 1\n",
    "    mask=np.triu(np.ones_like(corr_matrix))  # Show lower triangle only\n",
    ")\n",
    "plt.title('Correlation Heatmap: Solar Metrics & Module Temperatures')\n",
    "plt.show()"
   ]
  },
  {
   "cell_type": "markdown",
   "id": "afcf1347",
   "metadata": {},
   "source": [
    "Scatter Plots for Relationships"
   ]
  },
  {
   "cell_type": "markdown",
   "id": "80298f60",
   "metadata": {},
   "source": [
    "A. Wind vs. Solar Irradiance (WS, WSgust, WD vs. GHI)"
   ]
  },
  {
   "cell_type": "code",
   "execution_count": null,
   "id": "9e5821e0",
   "metadata": {},
   "outputs": [],
   "source": [
    "# Set up subplots\n",
    "fig, axes = plt.subplots(1, 3, figsize=(18, 5))\n",
    "\n",
    "# Plot WS vs. GHI\n",
    "sns.scatterplot(data=df_clean, x='WS', y='GHI', ax=axes[0], alpha=0.5)\n",
    "axes[0].set_title('Wind Speed vs. GHI')\n",
    "\n",
    "# Plot WSgust vs. GHI\n",
    "sns.scatterplot(data=df_clean, x='WSgust', y='GHI', ax=axes[1], alpha=0.5)\n",
    "axes[1].set_title('Wind Gust vs. GHI')\n",
    "\n",
    "# Plot WD vs. GHI (Wind Direction)\n",
    "sns.scatterplot(data=df_clean, x='WD', y='GHI', ax=axes[2], alpha=0.5)\n",
    "axes[2].set_title('Wind Direction vs. GHI')\n",
    "\n",
    "plt.tight_layout()\n",
    "plt.show()"
   ]
  },
  {
   "cell_type": "markdown",
   "id": "84046a2a",
   "metadata": {},
   "source": [
    "B. Humidity vs. Temperature/Radiation (RH vs. Tamb or GHI)"
   ]
  },
  {
   "cell_type": "code",
   "execution_count": null,
   "id": "e2798e0c",
   "metadata": {},
   "outputs": [],
   "source": [
    "fig, axes = plt.subplots(1, 2, figsize=(12, 5))\n",
    "\n",
    "# RH vs. Tamb\n",
    "sns.scatterplot(data=df_clean, x='RH', y='Tamb', ax=axes[0], alpha=0.5)\n",
    "axes[0].set_title('Relative Humidity vs. Ambient Temp')\n",
    "\n",
    "# RH vs. GHI\n",
    "sns.scatterplot(data=df_clean, x='RH', y='GHI', ax=axes[1], alpha=0.5)\n",
    "axes[1].set_title('Relative Humidity vs. GHI')\n",
    "\n",
    "plt.tight_layout()\n",
    "plt.show()"
   ]
  },
  {
   "cell_type": "markdown",
   "id": "a83a1498",
   "metadata": {},
   "source": [
    "6. Wind & Distribution Analysis"
   ]
  },
  {
   "cell_type": "markdown",
   "id": "a1b1f4f1",
   "metadata": {},
   "source": [
    "- Wind rose or radial bar plot of WS/WD."
   ]
  },
  {
   "cell_type": "code",
   "execution_count": null,
   "id": "b0c1ac25",
   "metadata": {},
   "outputs": [],
   "source": [
    "# Clean data\n",
    "df_wind = df_clean[['WD', 'WS']].dropna()\n",
    "df_wind['WD'] = df_wind['WD'].astype(float)  # Wind direction in degrees\n",
    "df_wind['WS'] = df_wind['WS'].astype(float)  # Wind speed in m/s\n",
    "\n",
    "# Create wind rose\n",
    "ax = WindroseAxes.from_ax()\n",
    "ax.bar(\n",
    "    df_wind['WD'],              # Wind direction (degrees)\n",
    "    df_wind['WS'],              # Wind speed (m/s)\n",
    "    normed=True,                # Show percentages\n",
    "    bins=np.arange(0, 12, 2),   # Speed bins: 0-2, 2-4, ..., 10-12 m/s\n",
    "    cmap= cm.viridis             # Use cm.viridis, not 'viridis'\n",
    ")\n",
    "ax.set_legend(title='Wind Speed (m/s)', bbox_to_anchor=(1.1, 1))\n",
    "plt.title('Wind Rose: Direction vs. Speed')\n",
    "plt.show()"
   ]
  },
  {
   "cell_type": "markdown",
   "id": "97bbe92f",
   "metadata": {},
   "source": [
    "Histograms for GHI and one other variable (e.g. WS)."
   ]
  },
  {
   "cell_type": "code",
   "execution_count": null,
   "id": "10fb44e8",
   "metadata": {},
   "outputs": [],
   "source": [
    "# Set up subplots\n",
    "fig, axes = plt.subplots(1, 2, figsize=(14, 5))\n",
    "\n",
    "# Histogram for GHI (Global Horizontal Irradiance)\n",
    "sns.histplot(\n",
    "    data=df_clean,\n",
    "    x='GHI',\n",
    "    bins=30,\n",
    "    kde=True,                # Kernel Density Estimate curve\n",
    "    color='gold',\n",
    "    ax=axes[0]\n",
    ")\n",
    "axes[0].set_title('Distribution of GHI (W/m²)')\n",
    "axes[0].set_xlabel('GHI')\n",
    "axes[0].axvline(df_clean['GHI'].median(), color='red', linestyle='--', label=f'Median: {df_clean[\"GHI\"].median():.1f}')\n",
    "axes[0].legend()\n",
    "\n",
    "# Histogram for WS (Wind Speed)\n",
    "sns.histplot(\n",
    "    data=df_clean,\n",
    "    x='WS',\n",
    "    bins=30,\n",
    "    kde=True,\n",
    "    color='skyblue',\n",
    "    ax=axes[1]\n",
    ")\n",
    "axes[1].set_title('Distribution of Wind Speed (m/s)')\n",
    "axes[1].set_xlabel('WS')\n",
    "axes[1].axvline(df_clean['WS'].median(), color='red', linestyle='--', label=f'Median: {df_clean[\"WS\"].median():.1f}')\n",
    "axes[1].legend()\n",
    "\n",
    "plt.tight_layout()\n",
    "plt.show()"
   ]
  },
  {
   "cell_type": "markdown",
   "id": "fe6d5878",
   "metadata": {},
   "source": [
    "7. Temperature Analysis"
   ]
  },
  {
   "cell_type": "markdown",
   "id": "94fecc9b",
   "metadata": {},
   "source": [
    "1. Scatter Plot: RH vs. Tamb"
   ]
  },
  {
   "cell_type": "code",
   "execution_count": null,
   "id": "e78aaa8c",
   "metadata": {},
   "outputs": [],
   "source": [
    "sns.scatterplot(data = df_clean, x = 'RH', y = 'Tamb')\n",
    "sns.scatterplot(data = df_clean, x = 'RH', y = 'GHI')"
   ]
  },
  {
   "cell_type": "markdown",
   "id": "45538a12",
   "metadata": {},
   "source": [
    "8. Bubble Chart"
   ]
  },
  {
   "cell_type": "markdown",
   "id": "0939d563",
   "metadata": {},
   "source": [
    "1. Bubble Chart: GHI vs. Tamb (Bubble Size = RH)"
   ]
  },
  {
   "cell_type": "code",
   "execution_count": null,
   "id": "a8a8e630",
   "metadata": {},
   "outputs": [],
   "source": [
    "# Ensure data is clean and numeric\n",
    "df_clean = df_clean.dropna(subset=['GHI', 'Tamb', 'RH'])  # Drop missing values\n",
    "df_clean[['GHI', 'Tamb', 'RH']] = df_clean[['GHI', 'Tamb', 'RH']].apply(pd.to_numeric, errors='coerce')\n",
    "\n",
    "# Create bubble chart\n",
    "plt.figure(figsize=(12, 8))\n",
    "scatter = plt.scatter(\n",
    "    x=df_clean['Tamb'],\n",
    "    y=df_clean['GHI'],\n",
    "    s=df_clean['RH'] * 2,  # Scale RH for visibility (adjust multiplier as needed)\n",
    "    c=df_clean['RH'],      # Color bubbles by RH\n",
    "    alpha=0.6,\n",
    "    cmap='viridis'\n",
    ")\n",
    "\n",
    "# Add labels and colorbar\n",
    "plt.title('GHI vs. Ambient Temperature (Bubble Size = RH)', fontsize=14)\n",
    "plt.xlabel('Temperature (°C)', fontsize=12)\n",
    "plt.ylabel('GHI (W/m²)', fontsize=12)\n",
    "cbar = plt.colorbar(scatter)\n",
    "cbar.set_label('Relative Humidity (%)', fontsize=12)\n",
    "\n",
    "# Add grid for readability\n",
    "plt.grid(True, linestyle='--', alpha=0.3)\n",
    "plt.show()"
   ]
  },
  {
   "cell_type": "markdown",
   "id": "5b4cba4a",
   "metadata": {},
   "source": [
    "2. Bubble Chart: GHI vs. Tamb (Bubble Size = BP)"
   ]
  },
  {
   "cell_type": "code",
   "execution_count": null,
   "id": "57708362",
   "metadata": {},
   "outputs": [],
   "source": [
    "plt.figure(figsize=(12, 8))\n",
    "scatter = plt.scatter(\n",
    "    x=df_clean['Tamb'],\n",
    "    y=df_clean['GHI'],\n",
    "    s=df_clean['BP'] * 0.1,  # Scale BP appropriately\n",
    "    c=df_clean['BP'],\n",
    "    alpha=0.6,\n",
    "    cmap='plasma'            # Different colormap for clarity\n",
    ")\n",
    "plt.title('GHI vs. Temperature (Bubble Size = Barometric Pressure)')\n",
    "plt.xlabel('Temperature (°C)')\n",
    "plt.ylabel('GHI (W/m²)')\n",
    "plt.colorbar(label='BP (hPa)')\n",
    "plt.grid(True, linestyle='--', alpha=0.3)\n",
    "plt.show()"
   ]
  }
 ],
 "metadata": {
  "kernelspec": {
   "display_name": ".venv",
   "language": "python",
   "name": "python3"
  },
  "language_info": {
   "codemirror_mode": {
    "name": "ipython",
    "version": 3
   },
   "file_extension": ".py",
   "mimetype": "text/x-python",
   "name": "python",
   "nbconvert_exporter": "python",
   "pygments_lexer": "ipython3",
   "version": "3.12.3"
  }
 },
 "nbformat": 4,
 "nbformat_minor": 5
}
